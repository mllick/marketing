{
 "cells": [
  {
   "cell_type": "code",
   "execution_count": 1,
   "id": "e39ea586",
   "metadata": {},
   "outputs": [],
   "source": [
    "# Librairies indispensables\n",
    "import pandas as pd\n",
    "import numpy as np\n",
    "import seaborn as sns\n",
    "import matplotlib.pyplot as plt"
   ]
  },
  {
   "cell_type": "code",
   "execution_count": 4,
   "id": "8f2ab7a9",
   "metadata": {},
   "outputs": [
    {
     "data": {
      "text/html": [
       "<div>\n",
       "<style scoped>\n",
       "    .dataframe tbody tr th:only-of-type {\n",
       "        vertical-align: middle;\n",
       "    }\n",
       "\n",
       "    .dataframe tbody tr th {\n",
       "        vertical-align: top;\n",
       "    }\n",
       "\n",
       "    .dataframe thead th {\n",
       "        text-align: right;\n",
       "    }\n",
       "</style>\n",
       "<table border=\"1\" class=\"dataframe\">\n",
       "  <thead>\n",
       "    <tr style=\"text-align: right;\">\n",
       "      <th></th>\n",
       "      <th>user_id</th>\n",
       "      <th>date_served</th>\n",
       "      <th>marketing_channel</th>\n",
       "      <th>variant</th>\n",
       "      <th>converted</th>\n",
       "      <th>language_displayed</th>\n",
       "      <th>language_preferred</th>\n",
       "      <th>age_group</th>\n",
       "      <th>date_subscribed</th>\n",
       "      <th>date_canceled</th>\n",
       "      <th>subscribing_channel</th>\n",
       "      <th>is_retained</th>\n",
       "    </tr>\n",
       "  </thead>\n",
       "  <tbody>\n",
       "    <tr>\n",
       "      <th>0</th>\n",
       "      <td>a100000029</td>\n",
       "      <td>1/1/18</td>\n",
       "      <td>House Ads</td>\n",
       "      <td>personalization</td>\n",
       "      <td>True</td>\n",
       "      <td>English</td>\n",
       "      <td>English</td>\n",
       "      <td>0-18 years</td>\n",
       "      <td>1/1/18</td>\n",
       "      <td>NaN</td>\n",
       "      <td>House Ads</td>\n",
       "      <td>True</td>\n",
       "    </tr>\n",
       "    <tr>\n",
       "      <th>1</th>\n",
       "      <td>a100000030</td>\n",
       "      <td>1/1/18</td>\n",
       "      <td>House Ads</td>\n",
       "      <td>personalization</td>\n",
       "      <td>True</td>\n",
       "      <td>English</td>\n",
       "      <td>English</td>\n",
       "      <td>19-24 years</td>\n",
       "      <td>1/1/18</td>\n",
       "      <td>NaN</td>\n",
       "      <td>House Ads</td>\n",
       "      <td>True</td>\n",
       "    </tr>\n",
       "    <tr>\n",
       "      <th>2</th>\n",
       "      <td>a100000031</td>\n",
       "      <td>1/1/18</td>\n",
       "      <td>House Ads</td>\n",
       "      <td>personalization</td>\n",
       "      <td>True</td>\n",
       "      <td>English</td>\n",
       "      <td>English</td>\n",
       "      <td>24-30 years</td>\n",
       "      <td>1/1/18</td>\n",
       "      <td>NaN</td>\n",
       "      <td>House Ads</td>\n",
       "      <td>True</td>\n",
       "    </tr>\n",
       "    <tr>\n",
       "      <th>3</th>\n",
       "      <td>a100000032</td>\n",
       "      <td>1/1/18</td>\n",
       "      <td>House Ads</td>\n",
       "      <td>personalization</td>\n",
       "      <td>True</td>\n",
       "      <td>English</td>\n",
       "      <td>English</td>\n",
       "      <td>30-36 years</td>\n",
       "      <td>1/1/18</td>\n",
       "      <td>NaN</td>\n",
       "      <td>House Ads</td>\n",
       "      <td>True</td>\n",
       "    </tr>\n",
       "    <tr>\n",
       "      <th>4</th>\n",
       "      <td>a100000033</td>\n",
       "      <td>1/1/18</td>\n",
       "      <td>House Ads</td>\n",
       "      <td>personalization</td>\n",
       "      <td>True</td>\n",
       "      <td>English</td>\n",
       "      <td>English</td>\n",
       "      <td>36-45 years</td>\n",
       "      <td>1/1/18</td>\n",
       "      <td>NaN</td>\n",
       "      <td>House Ads</td>\n",
       "      <td>True</td>\n",
       "    </tr>\n",
       "  </tbody>\n",
       "</table>\n",
       "</div>"
      ],
      "text/plain": [
       "      user_id date_served marketing_channel          variant converted  \\\n",
       "0  a100000029      1/1/18         House Ads  personalization      True   \n",
       "1  a100000030      1/1/18         House Ads  personalization      True   \n",
       "2  a100000031      1/1/18         House Ads  personalization      True   \n",
       "3  a100000032      1/1/18         House Ads  personalization      True   \n",
       "4  a100000033      1/1/18         House Ads  personalization      True   \n",
       "\n",
       "  language_displayed language_preferred    age_group date_subscribed  \\\n",
       "0            English            English   0-18 years          1/1/18   \n",
       "1            English            English  19-24 years          1/1/18   \n",
       "2            English            English  24-30 years          1/1/18   \n",
       "3            English            English  30-36 years          1/1/18   \n",
       "4            English            English  36-45 years          1/1/18   \n",
       "\n",
       "  date_canceled subscribing_channel is_retained  \n",
       "0           NaN           House Ads        True  \n",
       "1           NaN           House Ads        True  \n",
       "2           NaN           House Ads        True  \n",
       "3           NaN           House Ads        True  \n",
       "4           NaN           House Ads        True  "
      ]
     },
     "execution_count": 4,
     "metadata": {},
     "output_type": "execute_result"
    }
   ],
   "source": [
    "# Importation des données\n",
    "url='https://raw.githubusercontent.com/JosueAfouda/Marketing-Pandas/master/marketing.csv'\n",
    "\n",
    "marketing_df = pd.read_csv(url)\n",
    "marketing_df.head()\n"
   ]
  },
  {
   "cell_type": "code",
   "execution_count": 5,
   "id": "afd0e21e",
   "metadata": {},
   "outputs": [
    {
     "name": "stdout",
     "output_type": "stream",
     "text": [
      "<class 'pandas.core.frame.DataFrame'>\n",
      "RangeIndex: 10037 entries, 0 to 10036\n",
      "Data columns (total 12 columns):\n",
      " #   Column               Non-Null Count  Dtype \n",
      "---  ------               --------------  ----- \n",
      " 0   user_id              10037 non-null  object\n",
      " 1   date_served          10021 non-null  object\n",
      " 2   marketing_channel    10022 non-null  object\n",
      " 3   variant              10037 non-null  object\n",
      " 4   converted            10022 non-null  object\n",
      " 5   language_displayed   10037 non-null  object\n",
      " 6   language_preferred   10037 non-null  object\n",
      " 7   age_group            10037 non-null  object\n",
      " 8   date_subscribed      1856 non-null   object\n",
      " 9   date_canceled        577 non-null    object\n",
      " 10  subscribing_channel  1856 non-null   object\n",
      " 11  is_retained          1856 non-null   object\n",
      "dtypes: object(12)\n",
      "memory usage: 941.1+ KB\n"
     ]
    }
   ],
   "source": [
    "marketing_df.info()"
   ]
  },
  {
   "cell_type": "code",
   "execution_count": 17,
   "id": "4a2e88a4",
   "metadata": {},
   "outputs": [],
   "source": [
    "# Les variables date_served, date_subscribed, date_canceled sont des dates et ne sont pas au bon format. \n",
    "#Nous les mettrons en Datetime"
   ]
  },
  {
   "cell_type": "code",
   "execution_count": 18,
   "id": "e28e5605",
   "metadata": {},
   "outputs": [
    {
     "data": {
      "text/html": [
       "<div>\n",
       "<style scoped>\n",
       "    .dataframe tbody tr th:only-of-type {\n",
       "        vertical-align: middle;\n",
       "    }\n",
       "\n",
       "    .dataframe tbody tr th {\n",
       "        vertical-align: top;\n",
       "    }\n",
       "\n",
       "    .dataframe thead th {\n",
       "        text-align: right;\n",
       "    }\n",
       "</style>\n",
       "<table border=\"1\" class=\"dataframe\">\n",
       "  <thead>\n",
       "    <tr style=\"text-align: right;\">\n",
       "      <th></th>\n",
       "      <th>count</th>\n",
       "      <th>unique</th>\n",
       "      <th>top</th>\n",
       "      <th>freq</th>\n",
       "    </tr>\n",
       "  </thead>\n",
       "  <tbody>\n",
       "    <tr>\n",
       "      <th>user_id</th>\n",
       "      <td>10037</td>\n",
       "      <td>7309</td>\n",
       "      <td>a100000882</td>\n",
       "      <td>12</td>\n",
       "    </tr>\n",
       "    <tr>\n",
       "      <th>date_served</th>\n",
       "      <td>10021</td>\n",
       "      <td>31</td>\n",
       "      <td>1/15/18</td>\n",
       "      <td>789</td>\n",
       "    </tr>\n",
       "    <tr>\n",
       "      <th>marketing_channel</th>\n",
       "      <td>10022</td>\n",
       "      <td>5</td>\n",
       "      <td>House Ads</td>\n",
       "      <td>4733</td>\n",
       "    </tr>\n",
       "    <tr>\n",
       "      <th>variant</th>\n",
       "      <td>10037</td>\n",
       "      <td>2</td>\n",
       "      <td>control</td>\n",
       "      <td>5091</td>\n",
       "    </tr>\n",
       "    <tr>\n",
       "      <th>converted</th>\n",
       "      <td>10022</td>\n",
       "      <td>2</td>\n",
       "      <td>False</td>\n",
       "      <td>8946</td>\n",
       "    </tr>\n",
       "    <tr>\n",
       "      <th>language_displayed</th>\n",
       "      <td>10037</td>\n",
       "      <td>4</td>\n",
       "      <td>English</td>\n",
       "      <td>9793</td>\n",
       "    </tr>\n",
       "    <tr>\n",
       "      <th>language_preferred</th>\n",
       "      <td>10037</td>\n",
       "      <td>4</td>\n",
       "      <td>English</td>\n",
       "      <td>9275</td>\n",
       "    </tr>\n",
       "    <tr>\n",
       "      <th>age_group</th>\n",
       "      <td>10037</td>\n",
       "      <td>7</td>\n",
       "      <td>19-24 years</td>\n",
       "      <td>1682</td>\n",
       "    </tr>\n",
       "    <tr>\n",
       "      <th>date_subscribed</th>\n",
       "      <td>1856</td>\n",
       "      <td>31</td>\n",
       "      <td>1/16/18</td>\n",
       "      <td>163</td>\n",
       "    </tr>\n",
       "    <tr>\n",
       "      <th>date_canceled</th>\n",
       "      <td>577</td>\n",
       "      <td>115</td>\n",
       "      <td>4/2/18</td>\n",
       "      <td>15</td>\n",
       "    </tr>\n",
       "    <tr>\n",
       "      <th>subscribing_channel</th>\n",
       "      <td>1856</td>\n",
       "      <td>5</td>\n",
       "      <td>Instagram</td>\n",
       "      <td>600</td>\n",
       "    </tr>\n",
       "    <tr>\n",
       "      <th>is_retained</th>\n",
       "      <td>1856</td>\n",
       "      <td>2</td>\n",
       "      <td>True</td>\n",
       "      <td>1279</td>\n",
       "    </tr>\n",
       "  </tbody>\n",
       "</table>\n",
       "</div>"
      ],
      "text/plain": [
       "                     count unique          top  freq\n",
       "user_id              10037   7309   a100000882    12\n",
       "date_served          10021     31      1/15/18   789\n",
       "marketing_channel    10022      5    House Ads  4733\n",
       "variant              10037      2      control  5091\n",
       "converted            10022      2        False  8946\n",
       "language_displayed   10037      4      English  9793\n",
       "language_preferred   10037      4      English  9275\n",
       "age_group            10037      7  19-24 years  1682\n",
       "date_subscribed       1856     31      1/16/18   163\n",
       "date_canceled          577    115       4/2/18    15\n",
       "subscribing_channel   1856      5    Instagram   600\n",
       "is_retained           1856      2         True  1279"
      ]
     },
     "execution_count": 18,
     "metadata": {},
     "output_type": "execute_result"
    }
   ],
   "source": [
    "# Resume statistique\n",
    "marketing_df.describe().T"
   ]
  },
  {
   "cell_type": "code",
   "execution_count": 19,
   "id": "f2f92dff",
   "metadata": {},
   "outputs": [
    {
     "data": {
      "text/plain": [
       "House Ads    4733\n",
       "Instagram    1871\n",
       "Facebook     1860\n",
       "Push          993\n",
       "Email         565\n",
       "Name: marketing_channel, dtype: int64"
      ]
     },
     "execution_count": 19,
     "metadata": {},
     "output_type": "execute_result"
    }
   ],
   "source": [
    "# Les canaux marketing utlisés par l'entreprise\n",
    "marketing_df['marketing_channel'].value_counts()"
   ]
  },
  {
   "cell_type": "code",
   "execution_count": 20,
   "id": "e21f522c",
   "metadata": {},
   "outputs": [
    {
     "data": {
      "text/plain": [
       "House Ads    0.472261\n",
       "Instagram    0.186689\n",
       "Facebook     0.185592\n",
       "Push         0.099082\n",
       "Email        0.056376\n",
       "Name: marketing_channel, dtype: float64"
      ]
     },
     "execution_count": 20,
     "metadata": {},
     "output_type": "execute_result"
    }
   ],
   "source": [
    "# Proportions \n",
    "marketing_df['marketing_channel'].value_counts(normalize=True)"
   ]
  },
  {
   "cell_type": "code",
   "execution_count": 21,
   "id": "686977f0",
   "metadata": {},
   "outputs": [],
   "source": [
    "# L'entreprise utilise majoritairement (47%) les annonces auto-promotionnelle"
   ]
  },
  {
   "cell_type": "code",
   "execution_count": 22,
   "id": "7db6648f",
   "metadata": {},
   "outputs": [
    {
     "data": {
      "image/png": "[encoded data removed]",
      "text/plain": [
       "<Figure size 504x504 with 1 Axes>"
      ]
     },
     "metadata": {},
     "output_type": "display_data"
    }
   ],
   "source": [
    "# Canaux marketing\n",
    "plt.figure(figsize=(7,7))\n",
    "marketing_df['marketing_channel'].value_counts(normalize=True).plot(kind='pie')\n",
    "plt.title('Canaux Marketing')\n",
    "plt.show()"
   ]
  },
  {
   "cell_type": "code",
   "execution_count": 25,
   "id": "0168bdf3",
   "metadata": {},
   "outputs": [],
   "source": [
    "# Mettre les variables dates en Datetime\n",
    "for col in ['date_served', 'date_subscribed', 'date_canceled' ]:\n",
    "    marketing_df[col] = pd.to_datetime(marketing_df[col])"
   ]
  },
  {
   "cell_type": "code",
   "execution_count": 27,
   "id": "7acd0f7d",
   "metadata": {},
   "outputs": [
    {
     "data": {
      "text/plain": [
       "user_id                        object\n",
       "date_served            datetime64[ns]\n",
       "marketing_channel              object\n",
       "variant                        object\n",
       "converted                      object\n",
       "language_displayed             object\n",
       "language_preferred             object\n",
       "age_group                      object\n",
       "date_subscribed        datetime64[ns]\n",
       "date_canceled          datetime64[ns]\n",
       "subscribing_channel            object\n",
       "is_retained                    object\n",
       "dtype: object"
      ]
     },
     "execution_count": 27,
     "metadata": {},
     "output_type": "execute_result"
    }
   ],
   "source": [
    "#Verification du bon format date\n",
    "marketing_df.dtypes"
   ]
  },
  {
   "cell_type": "code",
   "execution_count": 29,
   "id": "efcea3cb",
   "metadata": {},
   "outputs": [],
   "source": [
    "# Les variables date_served, date_subscribed, date_canceled sont maintenant dans un bon format datetime."
   ]
  },
  {
   "cell_type": "code",
   "execution_count": 30,
   "id": "5f2b646f",
   "metadata": {},
   "outputs": [],
   "source": [
    "# Quel est le nombre d'utilisateurs retenus par la campagnes marketing?"
   ]
  },
  {
   "cell_type": "code",
   "execution_count": 31,
   "id": "390a046d",
   "metadata": {},
   "outputs": [
    {
     "data": {
      "text/plain": [
       "1279"
      ]
     },
     "execution_count": 31,
     "metadata": {},
     "output_type": "execute_result"
    }
   ],
   "source": [
    "marketing_df['is_retained'].sum()"
   ]
  },
  {
   "cell_type": "code",
   "execution_count": 32,
   "id": "2f042dbf",
   "metadata": {},
   "outputs": [],
   "source": [
    "# 1279 utilisateurs ont été retenus par la campagne marketing"
   ]
  },
  {
   "cell_type": "code",
   "execution_count": 33,
   "id": "c23782e0",
   "metadata": {},
   "outputs": [
    {
     "data": {
      "text/plain": [
       "True     0.689116\n",
       "False    0.310884\n",
       "Name: is_retained, dtype: float64"
      ]
     },
     "execution_count": 33,
     "metadata": {},
     "output_type": "execute_result"
    }
   ],
   "source": [
    "marketing_df['is_retained'].value_counts(normalize=True)"
   ]
  },
  {
   "cell_type": "code",
   "execution_count": 34,
   "id": "40567be8",
   "metadata": {},
   "outputs": [],
   "source": [
    "# En proportion cele equivaut à peu prés 0,69% de tous les utilisateurs"
   ]
  },
  {
   "cell_type": "code",
   "execution_count": 35,
   "id": "9c1d5863",
   "metadata": {},
   "outputs": [
    {
     "data": {
      "text/plain": [
       "array(['House Ads', 'Email', 'Push', 'Facebook', 'Instagram', nan],\n",
       "      dtype=object)"
      ]
     },
     "execution_count": 35,
     "metadata": {},
     "output_type": "execute_result"
    }
   ],
   "source": [
    "marketing_df['subscribing_channel'].unique()"
   ]
  },
  {
   "cell_type": "code",
   "execution_count": 36,
   "id": "23a4381d",
   "metadata": {},
   "outputs": [],
   "source": [
    "# Dictionnaire des chaines distinctes de souscriptions avec leurs codes\n",
    "dict_channels = {'House Ads':1, 'Instagram':2, 'Facebook':3, 'Push':4, 'Email':5}"
   ]
  },
  {
   "cell_type": "code",
   "execution_count": 37,
   "id": "e53a2cf8",
   "metadata": {},
   "outputs": [],
   "source": [
    "# Creation de la colonne 'channel_code'\n",
    "marketing_df['channel_code'] = marketing_df['subscribing_channel'].map(dict_channels)"
   ]
  },
  {
   "cell_type": "code",
   "execution_count": 38,
   "id": "37896e5a",
   "metadata": {},
   "outputs": [],
   "source": [
    "# Ajout nouvelle colonne is_correct_lang\n",
    "marketing_df['is_correct_lang'] = np.where(marketing_df['language_displayed']==marketing_df['language_preferred'],\\\n",
    "                                          'YES', 'NO')"
   ]
  },
  {
   "cell_type": "code",
   "execution_count": 39,
   "id": "d1865e6d",
   "metadata": {},
   "outputs": [],
   "source": [
    "#Ajout d'une colonne 'DoW' date de la semaine\n",
    "marketing_df['DoW'] = marketing_df['date_subscribed'].dt.dayofweek"
   ]
  },
  {
   "cell_type": "code",
   "execution_count": 42,
   "id": "2a2e9068",
   "metadata": {},
   "outputs": [],
   "source": [
    "# utilisateurs uniques qui voient les annonces marketing chaque jour\n",
    "daily_users = marketing_df.groupby('date_served')['user_id'].nunique()"
   ]
  },
  {
   "cell_type": "code",
   "execution_count": 43,
   "id": "9fba3cb5",
   "metadata": {},
   "outputs": [
    {
     "data": {
      "image/png": "[encoded data removed]",
      "text/plain": [
       "<Figure size 1080x504 with 1 Axes>"
      ]
     },
     "metadata": {
      "needs_background": "light"
     },
     "output_type": "display_data"
    }
   ],
   "source": [
    "#Visualisation des resultats\n",
    "plt.figure(figsize=(15,7))\n",
    "daily_users.plot.line()\n",
    "plt.xlabel('Date')\n",
    "plt.ylabel(\"Nombre d'utilisateurs\")\n",
    "plt.title(\"Nombre journalier d'utilisateurs regardant les annonces marketing\\n\", fontsize=18)\n",
    "plt.show()"
   ]
  },
  {
   "cell_type": "code",
   "execution_count": 54,
   "id": "dd1e4693",
   "metadata": {},
   "outputs": [
    {
     "name": "stdout",
     "output_type": "stream",
     "text": [
      "Le nombre d'utilisateurs uniques est: 7309\n"
     ]
    }
   ],
   "source": [
    "# Calcul du taux de conversation global\n",
    "# Nombre d'utilisateurs uniques\n",
    "n_unique_users = marketing_df['user_id'].nunique()\n",
    "print(\"Le nombre d'utilisateurs uniques est:\", n_unique_users)"
   ]
  },
  {
   "cell_type": "code",
   "execution_count": 55,
   "id": "d1e19f02",
   "metadata": {},
   "outputs": [
    {
     "data": {
      "text/plain": [
       "0         True\n",
       "1         True\n",
       "2         True\n",
       "3         True\n",
       "4         True\n",
       "         ...  \n",
       "10032     True\n",
       "10033     True\n",
       "10034    False\n",
       "10035     True\n",
       "10036    False\n",
       "Name: converted, Length: 10037, dtype: object"
      ]
     },
     "execution_count": 55,
     "metadata": {},
     "output_type": "execute_result"
    }
   ],
   "source": [
    "marketing_df[\"converted\"]"
   ]
  },
  {
   "cell_type": "code",
   "execution_count": 56,
   "id": "4c347f00",
   "metadata": {},
   "outputs": [
    {
     "name": "stdout",
     "output_type": "stream",
     "text": [
      "Le nombre d'utilisateurs uniques ayant suscript au service est: 1015\n"
     ]
    }
   ],
   "source": [
    "# Nombre d'utilisateurs uniques ayant suscrit au service\n",
    "n_suscripteurs = marketing_df[marketing_df[\"converted\"] == True]['user_id'].nunique()\n",
    "print(\"Le nombre d'utilisateurs uniques ayant suscript au service est:\", n_suscripteurs)"
   ]
  },
  {
   "cell_type": "code",
   "execution_count": 58,
   "id": "d79518e0",
   "metadata": {},
   "outputs": [
    {
     "name": "stdout",
     "output_type": "stream",
     "text": [
      " Le taux de conversion global est egal à: 13.89 %\n"
     ]
    }
   ],
   "source": [
    "# Taux de conversion global\n",
    "taux_conv_global = n_suscripteurs / n_unique_users\n",
    "print(\" Le taux de conversion global est egal à:\", round(taux_conv_global*100, 2), \"%\")"
   ]
  },
  {
   "cell_type": "code",
   "execution_count": 59,
   "id": "1e228850",
   "metadata": {},
   "outputs": [
    {
     "data": {
      "text/plain": [
       "0         True\n",
       "1         True\n",
       "2         True\n",
       "3         True\n",
       "4         True\n",
       "         ...  \n",
       "10032    False\n",
       "10033     True\n",
       "10034     True\n",
       "10035     True\n",
       "10036     True\n",
       "Name: is_retained, Length: 10037, dtype: object"
      ]
     },
     "execution_count": 59,
     "metadata": {},
     "output_type": "execute_result"
    }
   ],
   "source": [
    "marketing_df['is_retained']"
   ]
  },
  {
   "cell_type": "code",
   "execution_count": 62,
   "id": "7ec1e778",
   "metadata": {},
   "outputs": [
    {
     "name": "stdout",
     "output_type": "stream",
     "text": [
      "Le nombre de personnes qui sont restées abonnées: 678\n"
     ]
    }
   ],
   "source": [
    "# Calcul du taux de retention global d'un mois\n",
    "# Nombre de personnes qui sont restées abonnées\n",
    "retained = marketing_df[marketing_df['is_retained'] == True]['user_id'].nunique()\n",
    "print(\"Le nombre de personnes qui sont restées abonnées:\", retained)"
   ]
  },
  {
   "cell_type": "code",
   "execution_count": 67,
   "id": "18c4fdc8",
   "metadata": {},
   "outputs": [
    {
     "name": "stdout",
     "output_type": "stream",
     "text": [
      "Le taux de retention global est egal à: 66.8 %\n"
     ]
    }
   ],
   "source": [
    "taux_retained_global = retained / n_suscripteurs\n",
    "print(\"Le taux de retention global est egal à:\", round(taux_retained_global*100, 2), \"%\")"
   ]
  },
  {
   "cell_type": "markdown",
   "id": "0d8499d2",
   "metadata": {},
   "source": [
    "### Taux de retention par canal de souscription"
   ]
  },
  {
   "cell_type": "code",
   "execution_count": 72,
   "id": "4562d600",
   "metadata": {},
   "outputs": [
    {
     "name": "stdout",
     "output_type": "stream",
     "text": [
      "subscribing_channel\n",
      "Email        141\n",
      "Facebook     152\n",
      "House Ads    173\n",
      "Instagram    158\n",
      "Push          54\n",
      "Name: user_id, dtype: int64\n"
     ]
    }
   ],
   "source": [
    "# Nombre total d'utilisateurs retenus par canal de marketing\n",
    "n_retained_per_canal = marketing_df[marketing_df['is_retained'] == True].\\\n",
    "                            groupby('subscribing_channel')['user_id'].nunique()\n",
    "print(n_retained_per_canal)"
   ]
  },
  {
   "cell_type": "code",
   "execution_count": 76,
   "id": "52a15b76",
   "metadata": {},
   "outputs": [
    {
     "data": {
      "text/plain": [
       "subscribing_channel\n",
       "Email        161\n",
       "Facebook     221\n",
       "House Ads    298\n",
       "Instagram    232\n",
       "Push          77\n",
       "Name: user_id, dtype: int64"
      ]
     },
     "execution_count": 76,
     "metadata": {},
     "output_type": "execute_result"
    }
   ],
   "source": [
    "# Nombre total d'utilisateurs ayant souscrit un abonnement via chaque canal\n",
    "n_converted_per_canal = marketing_df[marketing_df['converted'] == True].\\\n",
    "                        groupby('subscribing_channel')['user_id'].nunique()\n",
    "n_converted_per_canal"
   ]
  },
  {
   "cell_type": "code",
   "execution_count": 74,
   "id": "9941a4c5",
   "metadata": {},
   "outputs": [
    {
     "data": {
      "text/plain": [
       "subscribing_channel\n",
       "Email        87.577640\n",
       "Push         70.129870\n",
       "Facebook     68.778281\n",
       "Instagram    68.103448\n",
       "House Ads    58.053691\n",
       "Name: user_id, dtype: float64"
      ]
     },
     "execution_count": 74,
     "metadata": {},
     "output_type": "execute_result"
    }
   ],
   "source": [
    "# Taux de retention par canal de souscription\n",
    "taux_retention_per_canal = (n_retained_per_canal / n_converted_per_canal)*100\n",
    "taux_retention_per_canal.sort_values(ascending=False)"
   ]
  },
  {
   "cell_type": "code",
   "execution_count": 77,
   "id": "ab37b6b2",
   "metadata": {},
   "outputs": [
    {
     "data": {
      "image/png": "[encoded data removed]",
      "text/plain": [
       "<Figure size 720x432 with 1 Axes>"
      ]
     },
     "metadata": {
      "needs_background": "light"
     },
     "output_type": "display_data"
    }
   ],
   "source": [
    "# Visualisation des resultats\n",
    "plt.figure(figsize=(10,6))\n",
    "taux_retention_per_canal.sort_values(ascending=False).plot(kind='bar')\n",
    "plt.title(\"Taux de retention par canal de souscription\\n\", fontsize=12)\n",
    "plt.xlabel(\"Canal\")\n",
    "plt.ylabel('Taux de conversion (%)')\n",
    "plt.show()"
   ]
  },
  {
   "cell_type": "code",
   "execution_count": 78,
   "id": "975af8e8",
   "metadata": {},
   "outputs": [],
   "source": [
    "# Les emails representent le taux de retention les plus eleves des canaux de souscription"
   ]
  },
  {
   "cell_type": "markdown",
   "id": "5da0ec03",
   "metadata": {},
   "source": [
    "### Automatisation du calcul taux de reteneion"
   ]
  },
  {
   "cell_type": "code",
   "execution_count": 81,
   "id": "69ae0f47",
   "metadata": {},
   "outputs": [],
   "source": [
    "# Fonction de calcul du taux de retention\n",
    "def retention_rate(dataframe, column_names):\n",
    "    retained =dataframe[dataframe['is_retained'] == True].groupby(column_names)['user_id'].nunique()\n",
    "    \n",
    "    converted = dataframe[dataframe['converted'] == True].groupby(column_names)['user_id'].nunique()\n",
    "    \n",
    "    retention_rate = retained / converted\n",
    "    \n",
    "    return retention_rate\n",
    "    "
   ]
  },
  {
   "cell_type": "code",
   "execution_count": 82,
   "id": "d86a0de8",
   "metadata": {},
   "outputs": [
    {
     "data": {
      "text/plain": [
       "subscribing_channel\n",
       "Email        0.875776\n",
       "Facebook     0.687783\n",
       "House Ads    0.580537\n",
       "Instagram    0.681034\n",
       "Push         0.701299\n",
       "Name: user_id, dtype: float64"
      ]
     },
     "execution_count": 82,
     "metadata": {},
     "output_type": "execute_result"
    }
   ],
   "source": [
    "# Appel de la fonction retention_rate() pour la verifiction\n",
    "retention_rate(marketing_df, ['subscribing_channel'])"
   ]
  },
  {
   "cell_type": "code",
   "execution_count": 86,
   "id": "abe56335",
   "metadata": {},
   "outputs": [
    {
     "data": {
      "text/plain": [
       "language_displayed\n",
       "Arabic     0.750000\n",
       "English    0.668467\n",
       "German     0.773585\n",
       "Spanish    1.000000\n",
       "Name: user_id, dtype: float64"
      ]
     },
     "execution_count": 86,
     "metadata": {},
     "output_type": "execute_result"
    }
   ],
   "source": [
    "# Taux de retention selon la langue d'affichage de l'annonce\n",
    "taux_retention_per_langue = retention_rate(marketing_df, ['language_displayed'])\n",
    "taux_retention_per_langue"
   ]
  },
  {
   "cell_type": "code",
   "execution_count": 87,
   "id": "829aad66",
   "metadata": {},
   "outputs": [
    {
     "data": {
      "image/png": "[encoded data removed]",
      "text/plain": [
       "<Figure size 720x360 with 1 Axes>"
      ]
     },
     "metadata": {
      "needs_background": "light"
     },
     "output_type": "display_data"
    }
   ],
   "source": [
    "# Visualisation des resultats\n",
    "plt.figure(figsize=(10, 5))\n",
    "taux_retention_per_langue.sort_values(ascending = False).plot(kind='bar')\n",
    "plt.title(\"Taux de retention par langue d'annonce marketing\\n\", fontsize=14)\n",
    "plt.xlabel(\"Langue\")\n",
    "plt.ylabel(\"Taux de conversion (%)\")\n",
    "plt.show()\n"
   ]
  },
  {
   "cell_type": "code",
   "execution_count": 88,
   "id": "ecb5fd1a",
   "metadata": {},
   "outputs": [],
   "source": [
    "# L'espagnol offre le meilleur de retention environ 100%"
   ]
  },
  {
   "cell_type": "code",
   "execution_count": 89,
   "id": "6e3cd904",
   "metadata": {},
   "outputs": [],
   "source": [
    "# Taux de conversion pr canal d'acquisition\n",
    "# Nombre d'utilisateurs uniques ayant suscrit au service\n",
    "n_souscripteurs_par_canal = marketing_df[marketing_df['converted'] == True].\\\n",
    "                            groupby('subscribing_channel')['user_id'].nunique()\n"
   ]
  },
  {
   "cell_type": "code",
   "execution_count": 91,
   "id": "474ee6fb",
   "metadata": {},
   "outputs": [],
   "source": [
    "#Nombre total de personnes atteintes par la campagne pour chaque canal\n",
    "total_per_canal = marketing_df.groupby('subscribing_channel')['user_id'].nunique() "
   ]
  },
  {
   "cell_type": "code",
   "execution_count": 95,
   "id": "99c5d275",
   "metadata": {},
   "outputs": [
    {
     "data": {
      "text/plain": [
       "subscribing_channel\n",
       "Facebook     100.000000\n",
       "House Ads    100.000000\n",
       "Instagram    100.000000\n",
       "Push         100.000000\n",
       "Email         83.854167\n",
       "Name: user_id, dtype: float64"
      ]
     },
     "execution_count": 95,
     "metadata": {},
     "output_type": "execute_result"
    }
   ],
   "source": [
    "taux_conv_par_canal = (n_souscripteurs_par_canal / total_per_canal)*100\n",
    "taux_conv_par_canal.sort_values(ascending = False)"
   ]
  },
  {
   "cell_type": "markdown",
   "id": "98db769c",
   "metadata": {},
   "source": [
    "### Automatisation du calcul  du taux de conversion"
   ]
  },
  {
   "cell_type": "code",
   "execution_count": 98,
   "id": "89d32fbf",
   "metadata": {},
   "outputs": [],
   "source": [
    "# Definition d'une fonction de calcul du taux de conversion\n",
    "def conversion_rate(dataframe, column_names):\n",
    "    # Nombre total d'utilisateurs converties\n",
    "    column_conv = dataframe[dataframe['converted'] == True].groupby(column_names)['user_id'].nunique()\n",
    "    # Nombre total d'utilisateurs\n",
    "    column_total = dataframe.groupby(column_names)['user_id'].nunique()\n",
    "    # Taux de conversion\n",
    "    conversion_rate = column_conv / column_total\n",
    "    # Remplacement des valeurs manquantes par 0\n",
    "    conversion_rate = conversion_rate.fillna(0)\n",
    "    return conversion_rate"
   ]
  },
  {
   "cell_type": "code",
   "execution_count": 99,
   "id": "5f9c4ee7",
   "metadata": {},
   "outputs": [
    {
     "data": {
      "text/plain": [
       "subscribing_channel\n",
       "Email        0.838542\n",
       "Facebook     1.000000\n",
       "House Ads    1.000000\n",
       "Instagram    1.000000\n",
       "Push         1.000000\n",
       "Name: user_id, dtype: float64"
      ]
     },
     "execution_count": 99,
     "metadata": {},
     "output_type": "execute_result"
    }
   ],
   "source": [
    "# Verification de la fonction\n",
    "conversion_rate(marketing_df, ['subscribing_channel'])"
   ]
  },
  {
   "cell_type": "code",
   "execution_count": 100,
   "id": "9da6a38a",
   "metadata": {},
   "outputs": [],
   "source": [
    "#verification OK"
   ]
  },
  {
   "cell_type": "code",
   "execution_count": 101,
   "id": "c25a379f",
   "metadata": {},
   "outputs": [
    {
     "data": {
      "text/plain": [
       "language_displayed\n",
       "Arabic     0.500000\n",
       "English    0.129167\n",
       "German     0.716216\n",
       "Spanish    0.200000\n",
       "Name: user_id, dtype: float64"
      ]
     },
     "execution_count": 101,
     "metadata": {},
     "output_type": "execute_result"
    }
   ],
   "source": [
    "# Taux de conversion par langue de l'annonce\n",
    "taux_conv_per_langue = conversion_rate(marketing_df, ['language_displayed'])\n",
    "taux_conv_per_langue"
   ]
  },
  {
   "cell_type": "code",
   "execution_count": 102,
   "id": "da6db7d4",
   "metadata": {},
   "outputs": [],
   "source": [
    "# L'allemand offre le meilleur taux de conversion environ 72 % et un taux de retention de 77 %.\n",
    "# L'espagnol offre le meilleur taux de retention environ 100 %  mais un taux de conversion de 20 %"
   ]
  },
  {
   "cell_type": "code",
   "execution_count": 103,
   "id": "b3dcbebf",
   "metadata": {},
   "outputs": [
    {
     "data": {
      "image/png": "[encoded data removed]",
      "text/plain": [
       "<Figure size 720x360 with 1 Axes>"
      ]
     },
     "metadata": {
      "needs_background": "light"
     },
     "output_type": "display_data"
    }
   ],
   "source": [
    "# Visualisation des resultats\n",
    "plt.figure(figsize=(10, 5))\n",
    "taux_conv_per_langue.sort_values(ascending = False).plot(kind='bar')\n",
    "plt.title(\"Taux de conversion par langue d'annonce marketing\\n\", fontsize = 14)\n",
    "plt.xlabel(\"Langue\")\n",
    "plt.ylabel(\"Taux de conversion (%)\")\n",
    "plt.show()"
   ]
  },
  {
   "cell_type": "code",
   "execution_count": 105,
   "id": "2c9193f2",
   "metadata": {},
   "outputs": [],
   "source": [
    "# les campagnes marketing en Allemand semblent plus efficaces que les autres langues \n",
    "# en ce qui concerne la conversion des utilisateurs."
   ]
  },
  {
   "cell_type": "markdown",
   "id": "e30c868c",
   "metadata": {},
   "source": [
    "### Taux de conversion journalier"
   ]
  },
  {
   "cell_type": "code",
   "execution_count": null,
   "id": "ce7ce2a5",
   "metadata": {},
   "outputs": [],
   "source": []
  }
 ],
 "metadata": {
  "kernelspec": {
   "display_name": "Python 3 (ipykernel)",
   "language": "python",
   "name": "python3"
  },
  "language_info": {
   "codemirror_mode": {
    "name": "ipython",
    "version": 3
   },
   "file_extension": ".py",
   "mimetype": "text/x-python",
   "name": "python",
   "nbconvert_exporter": "python",
   "pygments_lexer": "ipython3",
   "version": "3.8.12"
  },
  "toc": {
   "base_numbering": 1,
   "nav_menu": {},
   "number_sections": true,
   "sideBar": true,
   "skip_h1_title": false,
   "title_cell": "Table of Contents",
   "title_sidebar": "Contents",
   "toc_cell": false,
   "toc_position": {},
   "toc_section_display": true,
   "toc_window_display": false
  }
 },
 "nbformat": 4,
 "nbformat_minor": 5
}
